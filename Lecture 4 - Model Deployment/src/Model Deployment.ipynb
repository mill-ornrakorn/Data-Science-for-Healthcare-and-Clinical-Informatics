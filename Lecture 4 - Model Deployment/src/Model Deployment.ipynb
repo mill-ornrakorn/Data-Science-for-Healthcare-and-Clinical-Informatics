{
 "cells": [
  {
   "cell_type": "markdown",
   "metadata": {},
   "source": [
    "# <center>Data Science for Healthcare and Clinical Informatics</center>\n",
    "# <center> Model Deployment</center>\n",
    "---"
   ]
  },
  {
   "cell_type": "markdown",
   "metadata": {
    "id": "vPwtBJIFBL7r"
   },
   "source": [
    "# Serialization"
   ]
  },
  {
   "cell_type": "markdown",
   "metadata": {},
   "source": [
    "    Serialization คือการแปลง Python objects เป็น Pickle objects(พวก 010101.. อะไรประมาณนี้) \n",
    "    เพื่อที่จะสามารถ save แล้วนำไปใช้ต่อที่ไหนก็ได้ "
   ]
  },
  {
   "cell_type": "markdown",
   "metadata": {
    "id": "vPwtBJIFBL7r"
   },
   "source": [
    "Pickle is a module for (de)serialization to **store** a python object into a file and later **load** it back for further use.  \n",
    "\n",
    "Let's import pickle"
   ]
  },
  {
   "cell_type": "code",
   "execution_count": 1,
   "metadata": {
    "id": "cH11JxVcAc_D"
   },
   "outputs": [],
   "source": [
    "import pickle"
   ]
  },
  {
   "cell_type": "markdown",
   "metadata": {
    "id": "t33wOb2NB7oy"
   },
   "source": [
    "Python objects can be  \n",
    "- Variable  \n",
    "- Function  \n",
    "- Model  \n",
    "See more details of picklable and unpicklable object in https://pypi.org/project/dill/ "
   ]
  },
  {
   "cell_type": "markdown",
   "metadata": {
    "id": "vUvwpMtjDmTJ"
   },
   "source": [
    "Define a variable x"
   ]
  },
  {
   "cell_type": "code",
   "execution_count": 2,
   "metadata": {
    "id": "GoJkvKBmAhe0"
   },
   "outputs": [],
   "source": [
    "x = 15"
   ]
  },
  {
   "cell_type": "markdown",
   "metadata": {
    "id": "kPVJF53qDKur"
   },
   "source": [
    "Serializing the variable x to a pickle file x.pkl"
   ]
  },
  {
   "cell_type": "code",
   "execution_count": 3,
   "metadata": {
    "id": "PAKrW5PiAnad"
   },
   "outputs": [],
   "source": [
    "xfile = open(\"x.pkl\", \"wb\")\n",
    "pickle.dump(x, xfile)\n",
    "xfile.close()"
   ]
  },
  {
   "cell_type": "markdown",
   "metadata": {
    "id": "f1yPDZRBDR4d"
   },
   "source": [
    "Deserializing the x.plckle to the variable reload_x."
   ]
  },
  {
   "cell_type": "code",
   "execution_count": 4,
   "metadata": {
    "colab": {
     "base_uri": "https://localhost:8080/"
    },
    "executionInfo": {
     "elapsed": 377,
     "status": "ok",
     "timestamp": 1622794267104,
     "user": {
      "displayName": "Ratchainant Thammasudjarit",
      "photoUrl": "https://lh3.googleusercontent.com/a-/AOh14Gj1r37o3NmQU6rD5hHU9qM20MqTRolGx2swZ8ZA=s64",
      "userId": "09136137009755651262"
     },
     "user_tz": -420
    },
    "id": "atN_L0oxBIm0",
    "outputId": "bfab494e-b94e-4116-8a11-f6077f9f4b37"
   },
   "outputs": [
    {
     "name": "stdout",
     "output_type": "stream",
     "text": [
      "15\n"
     ]
    }
   ],
   "source": [
    "xfile = open(\"x.pkl\", \"rb\")\n",
    "reload_x = pickle.load(xfile)\n",
    "print(reload_x)"
   ]
  },
  {
   "cell_type": "markdown",
   "metadata": {
    "id": "4lBJ5mIzFdaj"
   },
   "source": [
    "Let's try serializing another python object"
   ]
  },
  {
   "cell_type": "code",
   "execution_count": 8,
   "metadata": {
    "id": "gtFdRyaxEsHm"
   },
   "outputs": [],
   "source": [
    "def calbmi(weight, height):\n",
    "    return weight / height**2"
   ]
  },
  {
   "cell_type": "markdown",
   "metadata": {
    "id": "_iIr-fOZGWmq"
   },
   "source": [
    "Exercise (Serialization): Use your knowledge to fill the right commands in None(s)."
   ]
  },
  {
   "cell_type": "code",
   "execution_count": 9,
   "metadata": {
    "id": "jIjGwVFbF_dQ"
   },
   "outputs": [],
   "source": [
    "bmipkl = open(\"bmi.pkl\", \"wb\")\n",
    "pickle.dump(calbmi, bmipkl)\n",
    "bmipkl.close()"
   ]
  },
  {
   "cell_type": "markdown",
   "metadata": {
    "id": "y7x9yhNxHWOA"
   },
   "source": [
    "Exercise (Deserialization): Use your knowledge to fill the right commands in None(s)."
   ]
  },
  {
   "cell_type": "code",
   "execution_count": 11,
   "metadata": {
    "colab": {
     "base_uri": "https://localhost:8080/"
    },
    "executionInfo": {
     "elapsed": 514,
     "status": "ok",
     "timestamp": 1622794817106,
     "user": {
      "displayName": "Ratchainant Thammasudjarit",
      "photoUrl": "https://lh3.googleusercontent.com/a-/AOh14Gj1r37o3NmQU6rD5hHU9qM20MqTRolGx2swZ8ZA=s64",
      "userId": "09136137009755651262"
     },
     "user_tz": -420
    },
    "id": "mf4qtWMIGT0T",
    "outputId": "1b0d84dc-07ef-4eaf-bc98-1797966022c0"
   },
   "outputs": [
    {
     "name": "stdout",
     "output_type": "stream",
     "text": [
      "25.510204081632658\n"
     ]
    }
   ],
   "source": [
    "bmipkl = open(\"bmi.pkl\", \"rb\")\n",
    "bmicalculator = pickle.load(bmipkl)\n",
    "print(bmicalculator(72, 1.68))"
   ]
  },
  {
   "cell_type": "markdown",
   "metadata": {
    "id": "LeVnltbMdCqQ"
   },
   "source": [
    "# Modeling  \n",
    "Let's train the logistic regression by programming using sklearn."
   ]
  },
  {
   "cell_type": "code",
   "execution_count": 12,
   "metadata": {
    "executionInfo": {
     "elapsed": 356,
     "status": "ok",
     "timestamp": 1622800780191,
     "user": {
      "displayName": "Ratchainant Thammasudjarit",
      "photoUrl": "https://lh3.googleusercontent.com/a-/AOh14Gj1r37o3NmQU6rD5hHU9qM20MqTRolGx2swZ8ZA=s64",
      "userId": "09136137009755651262"
     },
     "user_tz": -420
    },
    "id": "oKzl6h09cXx7"
   },
   "outputs": [],
   "source": [
    "from sklearn.model_selection import train_test_split\n",
    "from sklearn.linear_model import LogisticRegression\n",
    "import numpy as np\n",
    "import pandas as pd"
   ]
  },
  {
   "cell_type": "markdown",
   "metadata": {
    "id": "fMWP-f3md2gY"
   },
   "source": [
    "First, read data from csv"
   ]
  },
  {
   "cell_type": "code",
   "execution_count": 24,
   "metadata": {
    "executionInfo": {
     "elapsed": 340,
     "status": "ok",
     "timestamp": 1622800894236,
     "user": {
      "displayName": "Ratchainant Thammasudjarit",
      "photoUrl": "https://lh3.googleusercontent.com/a-/AOh14Gj1r37o3NmQU6rD5hHU9qM20MqTRolGx2swZ8ZA=s64",
      "userId": "09136137009755651262"
     },
     "user_tz": -420
    },
    "id": "K0OzSYOFdsg_"
   },
   "outputs": [],
   "source": [
    "df = pd.read_csv(\"../Data/diabetes.csv\")"
   ]
  },
  {
   "cell_type": "code",
   "execution_count": 25,
   "metadata": {
    "colab": {
     "base_uri": "https://localhost:8080/",
     "height": 199
    },
    "executionInfo": {
     "elapsed": 366,
     "status": "ok",
     "timestamp": 1622800899972,
     "user": {
      "displayName": "Ratchainant Thammasudjarit",
      "photoUrl": "https://lh3.googleusercontent.com/a-/AOh14Gj1r37o3NmQU6rD5hHU9qM20MqTRolGx2swZ8ZA=s64",
      "userId": "09136137009755651262"
     },
     "user_tz": -420
    },
    "id": "X22aeHv8eIW5",
    "outputId": "adcad448-a513-4c51-ee55-fffa8af8855e"
   },
   "outputs": [
    {
     "data": {
      "text/html": [
       "<div>\n",
       "<style scoped>\n",
       "    .dataframe tbody tr th:only-of-type {\n",
       "        vertical-align: middle;\n",
       "    }\n",
       "\n",
       "    .dataframe tbody tr th {\n",
       "        vertical-align: top;\n",
       "    }\n",
       "\n",
       "    .dataframe thead th {\n",
       "        text-align: right;\n",
       "    }\n",
       "</style>\n",
       "<table border=\"1\" class=\"dataframe\">\n",
       "  <thead>\n",
       "    <tr style=\"text-align: right;\">\n",
       "      <th></th>\n",
       "      <th>bmi</th>\n",
       "      <th>gender</th>\n",
       "      <th>age</th>\n",
       "      <th>dm</th>\n",
       "    </tr>\n",
       "  </thead>\n",
       "  <tbody>\n",
       "    <tr>\n",
       "      <th>0</th>\n",
       "      <td>34.461600</td>\n",
       "      <td>female</td>\n",
       "      <td>44</td>\n",
       "      <td>1</td>\n",
       "    </tr>\n",
       "    <tr>\n",
       "      <th>1</th>\n",
       "      <td>36.078770</td>\n",
       "      <td>female</td>\n",
       "      <td>40</td>\n",
       "      <td>1</td>\n",
       "    </tr>\n",
       "    <tr>\n",
       "      <th>2</th>\n",
       "      <td>34.859968</td>\n",
       "      <td>female</td>\n",
       "      <td>41</td>\n",
       "      <td>1</td>\n",
       "    </tr>\n",
       "    <tr>\n",
       "      <th>3</th>\n",
       "      <td>35.575163</td>\n",
       "      <td>female</td>\n",
       "      <td>42</td>\n",
       "      <td>1</td>\n",
       "    </tr>\n",
       "    <tr>\n",
       "      <th>4</th>\n",
       "      <td>32.601667</td>\n",
       "      <td>female</td>\n",
       "      <td>43</td>\n",
       "      <td>1</td>\n",
       "    </tr>\n",
       "  </tbody>\n",
       "</table>\n",
       "</div>"
      ],
      "text/plain": [
       "         bmi  gender  age  dm\n",
       "0  34.461600  female   44   1\n",
       "1  36.078770  female   40   1\n",
       "2  34.859968  female   41   1\n",
       "3  35.575163  female   42   1\n",
       "4  32.601667  female   43   1"
      ]
     },
     "execution_count": 25,
     "metadata": {},
     "output_type": "execute_result"
    }
   ],
   "source": [
    "df.head()"
   ]
  },
  {
   "cell_type": "markdown",
   "metadata": {
    "id": "mkj1VlySeOHq"
   },
   "source": [
    "For categorical data, we need variable encoding."
   ]
  },
  {
   "cell_type": "code",
   "execution_count": 26,
   "metadata": {
    "executionInfo": {
     "elapsed": 365,
     "status": "ok",
     "timestamp": 1622800970734,
     "user": {
      "displayName": "Ratchainant Thammasudjarit",
      "photoUrl": "https://lh3.googleusercontent.com/a-/AOh14Gj1r37o3NmQU6rD5hHU9qM20MqTRolGx2swZ8ZA=s64",
      "userId": "09136137009755651262"
     },
     "user_tz": -420
    },
    "id": "HEnoy8J6eJnt"
   },
   "outputs": [],
   "source": [
    "df[\"gender\"] = df[\"gender\"].map({\"female\": 0, \"male\": 1}) # map ค่า female เป็น 0 ส่วน male เป็น 1"
   ]
  },
  {
   "cell_type": "code",
   "execution_count": 27,
   "metadata": {
    "colab": {
     "base_uri": "https://localhost:8080/",
     "height": 199
    },
    "executionInfo": {
     "elapsed": 348,
     "status": "ok",
     "timestamp": 1622800976151,
     "user": {
      "displayName": "Ratchainant Thammasudjarit",
      "photoUrl": "https://lh3.googleusercontent.com/a-/AOh14Gj1r37o3NmQU6rD5hHU9qM20MqTRolGx2swZ8ZA=s64",
      "userId": "09136137009755651262"
     },
     "user_tz": -420
    },
    "id": "ZuIXJc9rebB5",
    "outputId": "b7e17697-e7a7-464a-f894-1269326c43a0"
   },
   "outputs": [
    {
     "data": {
      "text/html": [
       "<div>\n",
       "<style scoped>\n",
       "    .dataframe tbody tr th:only-of-type {\n",
       "        vertical-align: middle;\n",
       "    }\n",
       "\n",
       "    .dataframe tbody tr th {\n",
       "        vertical-align: top;\n",
       "    }\n",
       "\n",
       "    .dataframe thead th {\n",
       "        text-align: right;\n",
       "    }\n",
       "</style>\n",
       "<table border=\"1\" class=\"dataframe\">\n",
       "  <thead>\n",
       "    <tr style=\"text-align: right;\">\n",
       "      <th></th>\n",
       "      <th>bmi</th>\n",
       "      <th>gender</th>\n",
       "      <th>age</th>\n",
       "      <th>dm</th>\n",
       "    </tr>\n",
       "  </thead>\n",
       "  <tbody>\n",
       "    <tr>\n",
       "      <th>0</th>\n",
       "      <td>34.461600</td>\n",
       "      <td>0</td>\n",
       "      <td>44</td>\n",
       "      <td>1</td>\n",
       "    </tr>\n",
       "    <tr>\n",
       "      <th>1</th>\n",
       "      <td>36.078770</td>\n",
       "      <td>0</td>\n",
       "      <td>40</td>\n",
       "      <td>1</td>\n",
       "    </tr>\n",
       "    <tr>\n",
       "      <th>2</th>\n",
       "      <td>34.859968</td>\n",
       "      <td>0</td>\n",
       "      <td>41</td>\n",
       "      <td>1</td>\n",
       "    </tr>\n",
       "    <tr>\n",
       "      <th>3</th>\n",
       "      <td>35.575163</td>\n",
       "      <td>0</td>\n",
       "      <td>42</td>\n",
       "      <td>1</td>\n",
       "    </tr>\n",
       "    <tr>\n",
       "      <th>4</th>\n",
       "      <td>32.601667</td>\n",
       "      <td>0</td>\n",
       "      <td>43</td>\n",
       "      <td>1</td>\n",
       "    </tr>\n",
       "  </tbody>\n",
       "</table>\n",
       "</div>"
      ],
      "text/plain": [
       "         bmi  gender  age  dm\n",
       "0  34.461600       0   44   1\n",
       "1  36.078770       0   40   1\n",
       "2  34.859968       0   41   1\n",
       "3  35.575163       0   42   1\n",
       "4  32.601667       0   43   1"
      ]
     },
     "execution_count": 27,
     "metadata": {},
     "output_type": "execute_result"
    }
   ],
   "source": [
    "df.head()"
   ]
  },
  {
   "cell_type": "markdown",
   "metadata": {
    "id": "yEcCppZ-eh9u"
   },
   "source": [
    "Then data splitting is required for training and testing."
   ]
  },
  {
   "cell_type": "code",
   "execution_count": 44,
   "metadata": {
    "executionInfo": {
     "elapsed": 350,
     "status": "ok",
     "timestamp": 1622801123620,
     "user": {
      "displayName": "Ratchainant Thammasudjarit",
      "photoUrl": "https://lh3.googleusercontent.com/a-/AOh14Gj1r37o3NmQU6rD5hHU9qM20MqTRolGx2swZ8ZA=s64",
      "userId": "09136137009755651262"
     },
     "user_tz": -420
    },
    "id": "blgKMoS6ecVf"
   },
   "outputs": [],
   "source": [
    "# ดึงข้อมูลมาใส่ใน X และ y\n",
    "X = df.loc[:, [\"bmi\", \"gender\", \"age\"]].values # ดึงข้อมูลของ \"bmi\", \"gender\", \"age\" ออกมา โดยไม่เอาชื่อColumnมา\n",
    "y = df[\"dm\"].values.ravel() # ดึงข้อมูล Column สุดท้าย df[\"dm\"]"
   ]
  },
  {
   "cell_type": "code",
   "execution_count": 45,
   "metadata": {
    "scrolled": true
   },
   "outputs": [
    {
     "data": {
      "text/plain": [
       "array([[34.46159982,  0.        , 44.        ],\n",
       "       [36.07877032,  0.        , 40.        ],\n",
       "       [34.85996844,  0.        , 41.        ],\n",
       "       [35.57516293,  0.        , 42.        ],\n",
       "       [32.60166673,  0.        , 43.        ],\n",
       "       [35.28650342,  0.        , 43.        ],\n",
       "       [34.04445497,  1.        , 43.        ],\n",
       "       [35.51789227,  0.        , 41.        ],\n",
       "       [34.48185861,  0.        , 41.        ],\n",
       "       [34.68141491,  0.        , 43.        ],\n",
       "       [36.50011736,  0.        , 41.        ],\n",
       "       [35.25874775,  1.        , 42.        ],\n",
       "       [35.05597196,  1.        , 43.        ],\n",
       "       [34.75321792,  1.        , 44.        ],\n",
       "       [34.88318649,  0.        , 44.        ],\n",
       "       [35.91759957,  0.        , 43.        ],\n",
       "       [34.74723124,  0.        , 42.        ],\n",
       "       [34.93279688,  0.        , 43.        ],\n",
       "       [35.87080996,  1.        , 42.        ],\n",
       "       [33.91488621,  0.        , 43.        ],\n",
       "       [35.32045531,  0.        , 41.        ],\n",
       "       [34.16135187,  1.        , 43.        ],\n",
       "       [35.71335774,  0.        , 43.        ],\n",
       "       [33.782194  ,  1.        , 43.        ],\n",
       "       [36.28192996,  1.        , 41.        ],\n",
       "       [35.6716649 ,  1.        , 44.        ],\n",
       "       [35.79477526,  0.        , 43.        ],\n",
       "       [36.46630386,  1.        , 44.        ],\n",
       "       [33.86759621,  1.        , 43.        ],\n",
       "       [35.11919153,  1.        , 43.        ],\n",
       "       [32.19913229,  1.        , 41.        ],\n",
       "       [32.08084605,  1.        , 39.        ],\n",
       "       [32.50428939,  0.        , 41.        ],\n",
       "       [32.12699589,  1.        , 39.        ],\n",
       "       [34.06086445,  1.        , 40.        ],\n",
       "       [33.43600012,  1.        , 40.        ],\n",
       "       [33.0203835 ,  1.        , 39.        ],\n",
       "       [32.33396402,  1.        , 40.        ],\n",
       "       [34.43944197,  1.        , 40.        ],\n",
       "       [33.76570684,  0.        , 37.        ],\n",
       "       [33.08649123,  1.        , 41.        ],\n",
       "       [34.39583797,  1.        , 38.        ],\n",
       "       [33.4632217 ,  1.        , 39.        ],\n",
       "       [33.03805887,  0.        , 39.        ],\n",
       "       [33.8847622 ,  0.        , 39.        ],\n",
       "       [32.3622684 ,  0.        , 41.        ],\n",
       "       [31.79927377,  1.        , 40.        ],\n",
       "       [31.74901665,  1.        , 38.        ],\n",
       "       [33.01775825,  1.        , 38.        ],\n",
       "       [33.14557862,  1.        , 40.        ],\n",
       "       [33.24119024,  0.        , 40.        ],\n",
       "       [33.03081807,  0.        , 40.        ],\n",
       "       [34.6353498 ,  0.        , 41.        ],\n",
       "       [32.27196851,  1.        , 40.        ],\n",
       "       [32.64095876,  0.        , 39.        ],\n",
       "       [32.9173232 ,  1.        , 39.        ],\n",
       "       [32.44194388,  0.        , 39.        ],\n",
       "       [31.49637048,  0.        , 39.        ],\n",
       "       [33.98248722,  0.        , 38.        ],\n",
       "       [34.07377554,  0.        , 39.        ],\n",
       "       [33.17747408,  0.        , 39.        ],\n",
       "       [34.34641915,  1.        , 39.        ],\n",
       "       [34.13043463,  0.        , 40.        ],\n",
       "       [33.20098815,  1.        , 39.        ],\n",
       "       [33.88786676,  0.        , 40.        ],\n",
       "       [33.7362001 ,  0.        , 39.        ],\n",
       "       [35.74115032,  0.        , 39.        ],\n",
       "       [32.71673755,  1.        , 40.        ],\n",
       "       [32.55263674,  0.        , 37.        ],\n",
       "       [32.5691571 ,  1.        , 39.        ],\n",
       "       [32.68018423,  0.        , 40.        ],\n",
       "       [33.79286861,  1.        , 40.        ],\n",
       "       [35.82787959,  0.        , 39.        ],\n",
       "       [33.46748191,  0.        , 39.        ],\n",
       "       [33.84194358,  1.        , 39.        ],\n",
       "       [33.37490547,  0.        , 40.        ],\n",
       "       [32.93689901,  1.        , 40.        ],\n",
       "       [33.40756281,  0.        , 39.        ],\n",
       "       [33.3814271 ,  1.        , 38.        ],\n",
       "       [31.68396841,  1.        , 41.        ],\n",
       "       [34.09706638,  0.        , 41.        ],\n",
       "       [33.79670065,  1.        , 38.        ],\n",
       "       [33.57800294,  1.        , 41.        ],\n",
       "       [33.94182497,  1.        , 37.        ],\n",
       "       [33.1819515 ,  1.        , 38.        ],\n",
       "       [32.11952462,  1.        , 36.        ],\n",
       "       [33.8294996 ,  0.        , 41.        ],\n",
       "       [33.23243895,  1.        , 36.        ],\n",
       "       [34.5457829 ,  0.        , 39.        ],\n",
       "       [32.46560718,  1.        , 40.        ],\n",
       "       [33.40422711,  0.        , 39.        ],\n",
       "       [33.81924363,  1.        , 40.        ],\n",
       "       [32.76110058,  1.        , 40.        ],\n",
       "       [33.24779025,  1.        , 40.        ],\n",
       "       [32.05171322,  1.        , 40.        ],\n",
       "       [33.6028099 ,  1.        , 41.        ],\n",
       "       [31.92432472,  0.        , 41.        ],\n",
       "       [32.65714263,  0.        , 39.        ],\n",
       "       [31.62951591,  1.        , 38.        ],\n",
       "       [31.31556445,  0.        , 40.        ]])"
      ]
     },
     "execution_count": 45,
     "metadata": {},
     "output_type": "execute_result"
    }
   ],
   "source": [
    "X"
   ]
  },
  {
   "cell_type": "code",
   "execution_count": 46,
   "metadata": {},
   "outputs": [
    {
     "data": {
      "text/plain": [
       "array([1, 1, 1, 1, 1, 1, 1, 1, 1, 1, 1, 1, 1, 1, 1, 1, 1, 1, 1, 1, 1, 1,\n",
       "       1, 1, 1, 1, 1, 1, 1, 1, 0, 0, 0, 0, 0, 0, 0, 0, 0, 0, 0, 0, 0, 0,\n",
       "       0, 0, 0, 0, 0, 0, 0, 0, 0, 0, 0, 0, 0, 0, 0, 0, 0, 0, 0, 0, 0, 0,\n",
       "       0, 0, 0, 0, 0, 0, 0, 0, 0, 0, 0, 0, 0, 0, 0, 0, 0, 0, 0, 0, 0, 0,\n",
       "       0, 0, 0, 0, 0, 0, 0, 0, 0, 0, 0, 0], dtype=int64)"
      ]
     },
     "execution_count": 46,
     "metadata": {},
     "output_type": "execute_result"
    }
   ],
   "source": [
    "y"
   ]
  },
  {
   "cell_type": "code",
   "execution_count": 49,
   "metadata": {},
   "outputs": [],
   "source": [
    "# แบ่ง Data ที่ใช้ train กับ test\n",
    "X_train, X_test, y_train, y_test = train_test_split(X, y, test_size=0.2, random_state=42, stratify=y) \n",
    "\n",
    "# test_size = 0.2    --> test = 20% และ train = 80% ขนาดสัดส่วนของข้อมูล test ต่อข้อมูล train\n",
    "# random_state = 42  --> ค่า seed ที่กำหนดการ random กลุ่มข้อมูล ช่วยในการเมื่อมีการแก้ไขจะทำให้แก้ไขการทดลองได้ง่ายขึ้น\n",
    "# stratify = y       --> การกำหนดการกระจายของข้อมูลที่ split ให้มีการกระจายเหมือน original dataset\n",
    "# คำอธิบายมาจากในคาบ และ https://mtreerungroj.medium.com/machine-learning-supervised-learning-with-basic-scikit-learn-part1-99b8b2327c9"
   ]
  },
  {
   "cell_type": "markdown",
   "metadata": {
    "id": "u4dJWPm9fYwn"
   },
   "source": [
    "For simplicity and managable time in this microcredit class, we will do a very simple model training without cross validation."
   ]
  },
  {
   "cell_type": "code",
   "execution_count": 50,
   "metadata": {
    "executionInfo": {
     "elapsed": 301,
     "status": "ok",
     "timestamp": 1622801591015,
     "user": {
      "displayName": "Ratchainant Thammasudjarit",
      "photoUrl": "https://lh3.googleusercontent.com/a-/AOh14Gj1r37o3NmQU6rD5hHU9qM20MqTRolGx2swZ8ZA=s64",
      "userId": "09136137009755651262"
     },
     "user_tz": -420
    },
    "id": "xXWnhJYQfAUt"
   },
   "outputs": [],
   "source": [
    "# สร้าง model\n",
    "clf = LogisticRegression().fit(X_train, y_train)"
   ]
  },
  {
   "cell_type": "markdown",
   "metadata": {
    "id": "CX5vPMFxgzRV"
   },
   "source": [
    "Now we can serialize our model to a pkl file"
   ]
  },
  {
   "cell_type": "code",
   "execution_count": 51,
   "metadata": {
    "executionInfo": {
     "elapsed": 333,
     "status": "ok",
     "timestamp": 1622801720779,
     "user": {
      "displayName": "Ratchainant Thammasudjarit",
      "photoUrl": "https://lh3.googleusercontent.com/a-/AOh14Gj1r37o3NmQU6rD5hHU9qM20MqTRolGx2swZ8ZA=s64",
      "userId": "09136137009755651262"
     },
     "user_tz": -420
    },
    "id": "fZZljgnefwME"
   },
   "outputs": [],
   "source": [
    "# ใส่ไปใน  pkl file\n",
    "logreg = open(\"logreg.pkl\", \"wb\")\n",
    "pickle.dump(clf, logreg)\n",
    "logreg.close()"
   ]
  },
  {
   "cell_type": "markdown",
   "metadata": {},
   "source": [
    "เพื่อเอาไปใช้ต่อใน Web App (ในที่นี้คือ app.py)"
   ]
  },
  {
   "cell_type": "markdown",
   "metadata": {},
   "source": [
    "---"
   ]
  }
 ],
 "metadata": {
  "colab": {
   "authorship_tag": "ABX9TyMsSh8mz9JdEmoN6AaXgsOy",
   "name": "Model Deployment.ipynb",
   "provenance": [],
   "toc_visible": true
  },
  "kernelspec": {
   "display_name": "Python 3",
   "language": "python",
   "name": "python3"
  },
  "language_info": {
   "codemirror_mode": {
    "name": "ipython",
    "version": 3
   },
   "file_extension": ".py",
   "mimetype": "text/x-python",
   "name": "python",
   "nbconvert_exporter": "python",
   "pygments_lexer": "ipython3",
   "version": "3.8.8"
  }
 },
 "nbformat": 4,
 "nbformat_minor": 1
}
